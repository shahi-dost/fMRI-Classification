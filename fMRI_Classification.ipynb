{
 "cells": [
  {
   "cell_type": "code",
   "execution_count": 1,
   "id": "79a52ac8",
   "metadata": {},
   "outputs": [],
   "source": [
    "from sklearn.linear_model import LogisticRegression\n",
    "from sklearn.model_selection import train_test_split\n",
    "import autograd.numpy as np\n",
    "\n",
    "from autograd import grad\n",
    "from sklearn.svm import SVC\n",
    "from sklearn.model_selection import GridSearchCV\n",
    "from sklearn.metrics import accuracy_score\n",
    "\n",
    "import pandas as pd\n",
    "from sklearn.svm import SVC \n",
    "from sklearn.pipeline import Pipeline \n",
    "from sklearn. preprocessing import StandardScaler"
   ]
  },
  {
   "cell_type": "code",
   "execution_count": 2,
   "id": "1246edb9",
   "metadata": {},
   "outputs": [],
   "source": [
    "csvname = 'train_data.csv'\n",
    "x_TrainData = np.loadtxt(csvname,delimiter = ',')\n",
    "\n",
    "csvname = 'train_labels.csv'\n",
    "y_TrainData = np.loadtxt(csvname,delimiter = ',')\n",
    "\n",
    "csvname = 'test_data.csv'\n",
    "z = np.loadtxt(csvname,delimiter = ',')"
   ]
  },
  {
   "cell_type": "code",
   "execution_count": 3,
   "id": "145cc6b7",
   "metadata": {},
   "outputs": [
    {
     "name": "stdout",
     "output_type": "stream",
     "text": [
      "Best params: {'C': 0.0001, 'degree': 3, 'gamma': 'scale', 'kernel': 'linear'}\n"
     ]
    }
   ],
   "source": [
    "param_grid = {\n",
    "    'C': [0.000001,0.00001,0.0001,0.001,0.1,1,100], # Regularization values\n",
    "    'kernel': ['linear','rbf', 'poly'], # Kernels\n",
    "    'degree': [3, 4, 5], # degrees for the 'poly' kernel\n",
    "    'gamma': ['scale','auto'] # kernel coeff for 'rbf', , 'poly' and 'sigmoid'\n",
    "}\n",
    "\n",
    "# initialize GridSearchCV\n",
    "grid_search = GridSearchCV(SVC(), param_grid, cv=5, n_jobs=-1)\n",
    "\n",
    "# fit grid search to the training data to find the best parameters\n",
    "grid_search.fit(x_TrainData, y_TrainData)\n",
    "\n",
    "# print best parameters found by the grid search\n",
    "print(\"Best params:\", grid_search.best_params_)"
   ]
  },
  {
   "cell_type": "code",
   "execution_count": 4,
   "id": "44752e65",
   "metadata": {},
   "outputs": [],
   "source": [
    "# best hyperparameters from above\n",
    "best_C = 0.0001\n",
    "best_degree = 3\n",
    "best_gamma = 'scale'\n",
    "best_kernel = 'linear'\n",
    "\n",
    "# initialize SVC model\n",
    "final_svc = SVC(C=best_C, kernel=best_kernel, degree=best_degree, gamma=best_gamma, probability=True)\n",
    "# create pipeline a scaler and the SVC model\n",
    "final_model = Pipeline([\n",
    "    ('scaler', StandardScaler ()),\n",
    "    ('SVC', final_svc)\n",
    "])\n",
    "\n",
    "# train model on training data\n",
    "final_model.fit(x_TrainData, y_TrainData)\n",
    "\n",
    "# predict on test set\n",
    "test_predictions = final_model.predict(z)\n",
    "\n",
    "# convert predictions to ints\n",
    "test_predictions = test_predictions.astype(np.int64)\n",
    "\n",
    "# prep submission DataFrame\n",
    "submission = pd.DataFrame ( {\n",
    "    'id': np.arange(len (test_predictions)),\n",
    "    'Predictions': test_predictions\n",
    "})\n",
    "\n",
    "submission.head()\n",
    "submission.to_csv('SMDost_part_1_submission.csv', index=False)"
   ]
  },
  {
   "cell_type": "code",
   "execution_count": 5,
   "id": "687fbcc3",
   "metadata": {},
   "outputs": [],
   "source": [
    "# Analysis\n",
    "\n",
    "# Split Data to make the last run the validation set\n",
    "x_Data = x_TrainData[:140]\n",
    "x_ValidData = x_TrainData[140:]\n",
    "y_Data = y_TrainData[:140]\n",
    "y_ValidData = y_TrainData[140:]\n",
    "\n",
    "# initialize SVC model\n",
    "final_svc = SVC(C=best_C, kernel=best_kernel, degree=best_degree, gamma=best_gamma, probability=True)\n",
    "\n",
    "# create pipeline a scaler and the SVC model\n",
    "final_model = Pipeline([\n",
    "    ('scaler', StandardScaler ()),\n",
    "    ('SVC', final_svc)\n",
    "])\n",
    "\n",
    "# train model on training data\n",
    "final_model.fit(x_Data, y_Data)\n",
    "\n",
    "# predict on valid set\n",
    "test_predictions = final_model.predict(x_ValidData)"
   ]
  },
  {
   "cell_type": "code",
   "execution_count": 6,
   "id": "8a423d02",
   "metadata": {},
   "outputs": [
    {
     "data": {
      "image/png": "[encoded data removed]",
      "text/plain": [
       "<Figure size 800x600 with 2 Axes>"
      ]
     },
     "metadata": {},
     "output_type": "display_data"
    }
   ],
   "source": [
    "from sklearn.metrics import confusion_matrix\n",
    "import seaborn as sns\n",
    "import matplotlib.pyplot as plt\n",
    "\n",
    "# Calculate confusion matrix\n",
    "cm = confusion_matrix(y_ValidData, test_predictions)\n",
    "\n",
    "# Plot confusion matrix\n",
    "plt.figure(figsize=(8, 6))\n",
    "sns.heatmap(cm, annot=True, fmt='d', cmap='viridis', cbar=True)\n",
    "plt.xlabel('Predicted')\n",
    "plt.ylabel('True')\n",
    "plt.title('Confusion Matrix')\n",
    "plt.show()"
   ]
  }
 ],
 "metadata": {
  "kernelspec": {
   "display_name": "Python 3 (ipykernel)",
   "language": "python",
   "name": "python3"
  },
  "language_info": {
   "codemirror_mode": {
    "name": "ipython",
    "version": 3
   },
   "file_extension": ".py",
   "mimetype": "text/x-python",
   "name": "python",
   "nbconvert_exporter": "python",
   "pygments_lexer": "ipython3",
   "version": "3.11.4"
  }
 },
 "nbformat": 4,
 "nbformat_minor": 5
}
